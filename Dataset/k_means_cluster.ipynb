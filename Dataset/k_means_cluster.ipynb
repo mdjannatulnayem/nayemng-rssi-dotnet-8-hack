{
 "cells": [
  {
   "cell_type": "code",
   "execution_count": null,
   "metadata": {},
   "outputs": [],
   "source": [
    "import numpy as np\n",
    "import pandas as pd\n",
    "from matplotlib import pyplot as plt\n",
    "from sklearn.cluster import KMeans as Clst\n",
    "from sklearn.preprocessing import MinMaxScaler as MX"
   ]
  },
  {
   "cell_type": "code",
   "execution_count": null,
   "metadata": {},
   "outputs": [],
   "source": [
    "df = pd.read_csv('./merged-data.csv')\n",
    "df.replace(9999.99, 0, inplace=True)\n",
    "df.head()"
   ]
  },
  {
   "cell_type": "code",
   "execution_count": null,
   "metadata": {},
   "outputs": [],
   "source": [
    "scaler = MX()\n",
    "df[['bx_gsm']] = scaler.fit_transform(df[['bx_gsm']])\n",
    "df[['by_gsm']] = scaler.fit_transform(df[['by_gsm']])\n",
    "df[['bz_gsm']] = scaler.fit_transform(df[['bz_gsm']])\n",
    "df[['bt']] = scaler.fit_transform(df[['bt']])\n",
    "df[['intensity']] = scaler.fit_transform(df[['intensity']])\n",
    "df[['declination']] = scaler.fit_transform(df[['declination']])\n",
    "df[['inclination']] = scaler.fit_transform(df[['inclination']])\n",
    "df[['north']] = scaler.fit_transform(df[['north']])\n",
    "df[['east']] = scaler.fit_transform(df[['east']])\n",
    "df[['vertical']] = scaler.fit_transform(df[['vertical']])\n",
    "df[['horizontal']] = scaler.fit_transform(df[['horizontal']])\n",
    "df.head()"
   ]
  },
  {
   "cell_type": "code",
   "execution_count": null,
   "metadata": {},
   "outputs": [],
   "source": [
    "krng = range(1,13)\n",
    "sse = []\n",
    "for i in krng:\n",
    "    clusterer = Clst(n_clusters=i)\n",
    "    clusterer.fit(df[df.columns.values])\n",
    "    sse.append(clusterer.inertia_)\n"
   ]
  },
  {
   "cell_type": "code",
   "execution_count": null,
   "metadata": {},
   "outputs": [],
   "source": [
    "for err in sse:\n",
    "    print(err)\n",
    "print()\n",
    "print(\"min:\",np.min(sse))"
   ]
  },
  {
   "cell_type": "code",
   "execution_count": null,
   "metadata": {},
   "outputs": [],
   "source": [
    "plt.plot(krng,sse)\n",
    "plt.xlabel('sum of squared err')\n",
    "plt.ylabel('k')"
   ]
  },
  {
   "cell_type": "code",
   "execution_count": null,
   "metadata": {},
   "outputs": [],
   "source": [
    "clusterer = Clst(n_clusters=4)\n",
    "y_predicted = clusterer.fit_predict(df[df.columns.values])\n",
    "df['class'] = y_predicted"
   ]
  },
  {
   "cell_type": "code",
   "execution_count": null,
   "metadata": {},
   "outputs": [],
   "source": [
    "df.head()"
   ]
  },
  {
   "cell_type": "code",
   "execution_count": null,
   "metadata": {},
   "outputs": [],
   "source": [
    "# check distribution\n",
    "df['class'].value_counts()"
   ]
  },
  {
   "cell_type": "code",
   "execution_count": null,
   "metadata": {},
   "outputs": [],
   "source": [
    "grouped = df.groupby('class')\n",
    "\n",
    "result = grouped.agg({'bx_gsm': ['mean', 'median'], 'by_gsm': ['mean', 'median'],\n",
    "                       'bz_gsm': ['mean', 'median'], 'bt': ['mean', 'median'],\n",
    "                       'vertical':['mean','median']})\n",
    "# Rename the columns for clarity\n",
    "result.columns = ['bx_mean', 'bx_median', 'by_mean',\n",
    "                   'by_median', 'bz_mean', 'bz_median',\n",
    "                     'bt_mean', 'bt_median','vt_mean','vt_median']\n",
    "# Reset the index to make 'class'\n",
    "result.reset_index(inplace=True)\n"
   ]
  },
  {
   "cell_type": "code",
   "execution_count": null,
   "metadata": {},
   "outputs": [],
   "source": [
    "print(result)"
   ]
  },
  {
   "cell_type": "code",
   "execution_count": null,
   "metadata": {},
   "outputs": [],
   "source": [
    "result['sum_of_medians'] = result['bx_median'] + result['by_median'] + \\\n",
    "    result['bz_median'] + result['bt_median'] + result['vt_median']\n",
    "\n",
    "# Group by 'class' and calculate the sum\n",
    "sum_of_medians = result.groupby('class')['sum_of_medians'].sum().reset_index()\n",
    "\n",
    "sum_of_medians"
   ]
  },
  {
   "cell_type": "code",
   "execution_count": null,
   "metadata": {},
   "outputs": [],
   "source": [
    "new_df = pd.read_csv('./merged-data.csv')\n",
    "new_df.replace(9999.99, np.nan, inplace=True)\n",
    "new_df['class'] = y_predicted\n",
    "new_df.to_csv('classification.csv')"
   ]
  },
  {
   "cell_type": "code",
   "execution_count": null,
   "metadata": {},
   "outputs": [],
   "source": []
  }
 ],
 "metadata": {
  "kernelspec": {
   "display_name": "Python 3",
   "language": "python",
   "name": "python3"
  },
  "language_info": {
   "codemirror_mode": {
    "name": "ipython",
    "version": 3
   },
   "file_extension": ".py",
   "mimetype": "text/x-python",
   "name": "python",
   "nbconvert_exporter": "python",
   "pygments_lexer": "ipython3",
   "version": "3.11.3"
  }
 },
 "nbformat": 4,
 "nbformat_minor": 2
}
